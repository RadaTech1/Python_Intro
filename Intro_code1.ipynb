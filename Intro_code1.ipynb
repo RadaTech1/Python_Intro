{
 "cells": [
  {
   "cell_type": "markdown",
   "id": "8238b525",
   "metadata": {},
   "source": [
    "<img src=\"https://s8.uupload.ir/files/picture2_(2)_8cud.jpg\" />"
   ]
  },
  {
   "cell_type": "markdown",
   "id": "13fc504e",
   "metadata": {},
   "source": [
    "# ®\n",
    "# remainder %\n",
    "# quotient //\n",
    "# type()"
   ]
  },
  {
   "cell_type": "code",
   "execution_count": 7,
   "id": "b0a93f95",
   "metadata": {},
   "outputs": [
    {
     "data": {
      "text/plain": [
       "int"
      ]
     },
     "execution_count": 7,
     "metadata": {},
     "output_type": "execute_result"
    }
   ],
   "source": [
    "type(1)"
   ]
  },
  {
   "cell_type": "code",
   "execution_count": 8,
   "id": "49a6ea91",
   "metadata": {},
   "outputs": [
    {
     "data": {
      "text/plain": [
       "4"
      ]
     },
     "execution_count": 8,
     "metadata": {},
     "output_type": "execute_result"
    }
   ],
   "source": [
    "2+2"
   ]
  },
  {
   "cell_type": "code",
   "execution_count": 9,
   "id": "6ac890f7",
   "metadata": {},
   "outputs": [
    {
     "data": {
      "text/plain": [
       "-1"
      ]
     },
     "execution_count": 9,
     "metadata": {},
     "output_type": "execute_result"
    }
   ],
   "source": [
    "1-2"
   ]
  },
  {
   "cell_type": "code",
   "execution_count": 10,
   "id": "e007d313",
   "metadata": {},
   "outputs": [
    {
     "data": {
      "text/plain": [
       "15"
      ]
     },
     "execution_count": 10,
     "metadata": {},
     "output_type": "execute_result"
    }
   ],
   "source": [
    "3*5"
   ]
  },
  {
   "cell_type": "code",
   "execution_count": 11,
   "id": "090ba290",
   "metadata": {},
   "outputs": [
    {
     "data": {
      "text/plain": [
       "0.5"
      ]
     },
     "execution_count": 11,
     "metadata": {},
     "output_type": "execute_result"
    }
   ],
   "source": [
    "1/2"
   ]
  },
  {
   "cell_type": "markdown",
   "id": "72e68e29",
   "metadata": {},
   "source": [
    "## 6/3 is float"
   ]
  },
  {
   "cell_type": "code",
   "execution_count": 13,
   "id": "9d5882a8",
   "metadata": {},
   "outputs": [
    {
     "data": {
      "text/plain": [
       "float"
      ]
     },
     "execution_count": 13,
     "metadata": {},
     "output_type": "execute_result"
    }
   ],
   "source": [
    "type(6/3)"
   ]
  },
  {
   "cell_type": "markdown",
   "id": "ec34b464",
   "metadata": {},
   "source": [
    "# ® \n",
    "# Divisibility and Exponentiation (% , **, //)"
   ]
  },
  {
   "cell_type": "code",
   "execution_count": 1,
   "id": "464b7df8",
   "metadata": {},
   "outputs": [
    {
     "data": {
      "text/plain": [
       "1"
      ]
     },
     "execution_count": 1,
     "metadata": {},
     "output_type": "execute_result"
    }
   ],
   "source": [
    "50//40"
   ]
  },
  {
   "cell_type": "code",
   "execution_count": 14,
   "id": "0b2caaa5",
   "metadata": {},
   "outputs": [
    {
     "data": {
      "text/plain": [
       "2"
      ]
     },
     "execution_count": 14,
     "metadata": {},
     "output_type": "execute_result"
    }
   ],
   "source": [
    "52%50"
   ]
  },
  {
   "cell_type": "code",
   "execution_count": 16,
   "id": "d3fc657b",
   "metadata": {},
   "outputs": [
    {
     "data": {
      "text/plain": [
       "2"
      ]
     },
     "execution_count": 16,
     "metadata": {},
     "output_type": "execute_result"
    }
   ],
   "source": [
    "50%4"
   ]
  },
  {
   "cell_type": "code",
   "execution_count": 24,
   "id": "3b65b667",
   "metadata": {},
   "outputs": [
    {
     "data": {
      "text/plain": [
       "8"
      ]
     },
     "execution_count": 24,
     "metadata": {},
     "output_type": "execute_result"
    }
   ],
   "source": [
    "2**3"
   ]
  },
  {
   "cell_type": "markdown",
   "id": "8703b84f",
   "metadata": {},
   "source": [
    "## ®\n",
    "# The priority of operations\n",
    "   \n",
    "    Parentheses (Brackets)\n",
    "    Exponents (Powers, Roots)\n",
    "    Multiplication and Division (from left to right)\n",
    "    Addition and Subtraction (from left to right)"
   ]
  },
  {
   "cell_type": "code",
   "execution_count": 26,
   "id": "8abdf092",
   "metadata": {},
   "outputs": [
    {
     "data": {
      "text/plain": [
       "51"
      ]
     },
     "execution_count": 26,
     "metadata": {},
     "output_type": "execute_result"
    }
   ],
   "source": [
    "5+5*10-4"
   ]
  },
  {
   "cell_type": "code",
   "execution_count": 27,
   "id": "a8396b2b",
   "metadata": {},
   "outputs": [
    {
     "data": {
      "text/plain": [
       "60"
      ]
     },
     "execution_count": 27,
     "metadata": {},
     "output_type": "execute_result"
    }
   ],
   "source": [
    "(5+5)*(10-4)"
   ]
  },
  {
   "cell_type": "code",
   "execution_count": 28,
   "id": "aabc688b",
   "metadata": {},
   "outputs": [
    {
     "data": {
      "text/plain": [
       "5000000000"
      ]
     },
     "execution_count": 28,
     "metadata": {},
     "output_type": "execute_result"
    }
   ],
   "source": [
    "5*10**9"
   ]
  },
  {
   "cell_type": "code",
   "execution_count": 29,
   "id": "b8064ead",
   "metadata": {},
   "outputs": [
    {
     "data": {
      "text/plain": [
       "1953125000000000"
      ]
     },
     "execution_count": 29,
     "metadata": {},
     "output_type": "execute_result"
    }
   ],
   "source": [
    "(5*10)**9"
   ]
  },
  {
   "cell_type": "markdown",
   "id": "55f0187b",
   "metadata": {},
   "source": [
    "# ®\n",
    "# Print"
   ]
  },
  {
   "cell_type": "code",
   "execution_count": 30,
   "id": "fc266672",
   "metadata": {},
   "outputs": [
    {
     "name": "stdout",
     "output_type": "stream",
     "text": [
      "Hi RADA\n"
     ]
    }
   ],
   "source": [
    "print('Hi RADA')"
   ]
  },
  {
   "cell_type": "code",
   "execution_count": 31,
   "id": "377d4495",
   "metadata": {},
   "outputs": [
    {
     "name": "stdout",
     "output_type": "stream",
     "text": [
      "6\n"
     ]
    }
   ],
   "source": [
    "print(2*3)"
   ]
  }
 ],
 "metadata": {
  "kernelspec": {
   "display_name": "Python 3 (ipykernel)",
   "language": "python",
   "name": "python3"
  },
  "language_info": {
   "codemirror_mode": {
    "name": "ipython",
    "version": 3
   },
   "file_extension": ".py",
   "mimetype": "text/x-python",
   "name": "python",
   "nbconvert_exporter": "python",
   "pygments_lexer": "ipython3",
   "version": "3.10.9"
  }
 },
 "nbformat": 4,
 "nbformat_minor": 5
}
